{
 "cells": [
  {
   "cell_type": "markdown",
   "metadata": {},
   "source": [
    "### Getting Real Time Data"
   ]
  },
  {
   "cell_type": "code",
   "execution_count": 1,
   "metadata": {},
   "outputs": [],
   "source": [
    "import numpy as np\n",
    "import pandas as pd\n",
    "from pandas_datareader import data as pdr\n",
    "import yfinance as yf\n",
    "import matplotlib.pyplot as plt "
   ]
  },
  {
   "cell_type": "code",
   "execution_count": 2,
   "metadata": {
    "scrolled": true
   },
   "outputs": [
    {
     "data": {
      "text/html": [
       "<div>\n",
       "<style scoped>\n",
       "    .dataframe tbody tr th:only-of-type {\n",
       "        vertical-align: middle;\n",
       "    }\n",
       "\n",
       "    .dataframe tbody tr th {\n",
       "        vertical-align: top;\n",
       "    }\n",
       "\n",
       "    .dataframe thead th {\n",
       "        text-align: right;\n",
       "    }\n",
       "</style>\n",
       "<table border=\"1\" class=\"dataframe\">\n",
       "  <thead>\n",
       "    <tr style=\"text-align: right;\">\n",
       "      <th></th>\n",
       "      <th>High</th>\n",
       "      <th>Low</th>\n",
       "      <th>Open</th>\n",
       "      <th>Close</th>\n",
       "      <th>Volume</th>\n",
       "      <th>Adj Close</th>\n",
       "    </tr>\n",
       "    <tr>\n",
       "      <th>Date</th>\n",
       "      <th></th>\n",
       "      <th></th>\n",
       "      <th></th>\n",
       "      <th></th>\n",
       "      <th></th>\n",
       "      <th></th>\n",
       "    </tr>\n",
       "  </thead>\n",
       "  <tbody>\n",
       "    <tr>\n",
       "      <th>2020-03-02</th>\n",
       "      <td>309.160004</td>\n",
       "      <td>294.459991</td>\n",
       "      <td>298.209991</td>\n",
       "      <td>309.089996</td>\n",
       "      <td>238703600.0</td>\n",
       "      <td>302.433044</td>\n",
       "    </tr>\n",
       "    <tr>\n",
       "      <th>2020-03-03</th>\n",
       "      <td>313.839996</td>\n",
       "      <td>297.570007</td>\n",
       "      <td>309.500000</td>\n",
       "      <td>300.239990</td>\n",
       "      <td>300139100.0</td>\n",
       "      <td>293.773682</td>\n",
       "    </tr>\n",
       "    <tr>\n",
       "      <th>2020-03-04</th>\n",
       "      <td>313.100006</td>\n",
       "      <td>303.329987</td>\n",
       "      <td>306.119995</td>\n",
       "      <td>312.859985</td>\n",
       "      <td>176613400.0</td>\n",
       "      <td>306.121857</td>\n",
       "    </tr>\n",
       "    <tr>\n",
       "      <th>2020-03-05</th>\n",
       "      <td>308.470001</td>\n",
       "      <td>300.010010</td>\n",
       "      <td>304.980011</td>\n",
       "      <td>302.459991</td>\n",
       "      <td>186366800.0</td>\n",
       "      <td>295.945862</td>\n",
       "    </tr>\n",
       "    <tr>\n",
       "      <th>2020-03-06</th>\n",
       "      <td>298.779999</td>\n",
       "      <td>290.230011</td>\n",
       "      <td>293.149994</td>\n",
       "      <td>297.459991</td>\n",
       "      <td>228667200.0</td>\n",
       "      <td>291.053558</td>\n",
       "    </tr>\n",
       "  </tbody>\n",
       "</table>\n",
       "</div>"
      ],
      "text/plain": [
       "                  High         Low        Open       Close       Volume  \\\n",
       "Date                                                                      \n",
       "2020-03-02  309.160004  294.459991  298.209991  309.089996  238703600.0   \n",
       "2020-03-03  313.839996  297.570007  309.500000  300.239990  300139100.0   \n",
       "2020-03-04  313.100006  303.329987  306.119995  312.859985  176613400.0   \n",
       "2020-03-05  308.470001  300.010010  304.980011  302.459991  186366800.0   \n",
       "2020-03-06  298.779999  290.230011  293.149994  297.459991  228667200.0   \n",
       "\n",
       "             Adj Close  \n",
       "Date                    \n",
       "2020-03-02  302.433044  \n",
       "2020-03-03  293.773682  \n",
       "2020-03-04  306.121857  \n",
       "2020-03-05  295.945862  \n",
       "2020-03-06  291.053558  "
      ]
     },
     "execution_count": 2,
     "metadata": {},
     "output_type": "execute_result"
    }
   ],
   "source": [
    "data = pdr.get_data_yahoo(\"SPY\", start=\"2020-03-01\", end=\"2021-03-30\")\n",
    "data.head()"
   ]
  },
  {
   "cell_type": "code",
   "execution_count": 3,
   "metadata": {},
   "outputs": [],
   "source": [
    "data.to_csv('data.csv')"
   ]
  },
  {
   "cell_type": "markdown",
   "metadata": {},
   "source": [
    "### Importing data to Spark"
   ]
  },
  {
   "cell_type": "code",
   "execution_count": 4,
   "metadata": {},
   "outputs": [],
   "source": [
    "from pyspark import SparkFiles, SparkConf, SparkContext\n",
    "from pyspark.sql import SparkSession"
   ]
  },
  {
   "cell_type": "code",
   "execution_count": 5,
   "metadata": {},
   "outputs": [],
   "source": [
    "conf = SparkConf().setMaster(\"local\").setAppName(\"Stock Analysis\")\n",
    "sc = SparkContext(conf = conf)"
   ]
  },
  {
   "cell_type": "code",
   "execution_count": 6,
   "metadata": {},
   "outputs": [],
   "source": [
    "spark = SparkSession.builder.appName('data').getOrCreate()"
   ]
  },
  {
   "cell_type": "code",
   "execution_count": 7,
   "metadata": {},
   "outputs": [],
   "source": [
    "data = spark.read.csv('data.csv', inferSchema=True, header=True)"
   ]
  },
  {
   "cell_type": "code",
   "execution_count": 8,
   "metadata": {
    "scrolled": false
   },
   "outputs": [
    {
     "name": "stdout",
     "output_type": "stream",
     "text": [
      "+----------+-----------------+------------------+-----------------+-----------------+----------+------------------+\n",
      "|      Date|             High|               Low|             Open|            Close|    Volume|         Adj Close|\n",
      "+----------+-----------------+------------------+-----------------+-----------------+----------+------------------+\n",
      "|2020-03-02|309.1600036621094| 294.4599914550781|298.2099914550781|309.0899963378906|2.387036E8|302.43304443359375|\n",
      "|2020-03-03|313.8399963378906|297.57000732421875|            309.5| 300.239990234375|3.001391E8|  293.773681640625|\n",
      "|2020-03-04|313.1000061035156| 303.3299865722656|306.1199951171875|312.8599853515625|1.766134E8| 306.1218566894531|\n",
      "|2020-03-05|308.4700012207031|  300.010009765625|304.9800109863281|302.4599914550781|1.863668E8|295.94586181640625|\n",
      "|2020-03-06|298.7799987792969| 290.2300109863281|293.1499938964844|297.4599914550781|2.286672E8| 291.0535583496094|\n",
      "+----------+-----------------+------------------+-----------------+-----------------+----------+------------------+\n",
      "only showing top 5 rows\n",
      "\n"
     ]
    }
   ],
   "source": [
    "data.show(5)"
   ]
  },
  {
   "cell_type": "code",
   "execution_count": 9,
   "metadata": {},
   "outputs": [
    {
     "data": {
      "text/plain": [
       "DataFrame[Date: string, High: double, Low: double, Open: double, Close: double, Volume: double, Adj Close: double]"
      ]
     },
     "execution_count": 9,
     "metadata": {},
     "output_type": "execute_result"
    }
   ],
   "source": [
    "data"
   ]
  },
  {
   "cell_type": "code",
   "execution_count": 10,
   "metadata": {},
   "outputs": [
    {
     "name": "stdout",
     "output_type": "stream",
     "text": [
      "root\n",
      " |-- Date: string (nullable = true)\n",
      " |-- High: double (nullable = true)\n",
      " |-- Low: double (nullable = true)\n",
      " |-- Open: double (nullable = true)\n",
      " |-- Close: double (nullable = true)\n",
      " |-- Volume: double (nullable = true)\n",
      " |-- Adj Close: double (nullable = true)\n",
      "\n"
     ]
    }
   ],
   "source": [
    "data.printSchema()"
   ]
  },
  {
   "cell_type": "code",
   "execution_count": 11,
   "metadata": {},
   "outputs": [
    {
     "name": "stdout",
     "output_type": "stream",
     "text": [
      "+-------+----------+------------------+------------------+------------------+------------------+-------------------+------------------+\n",
      "|summary|      Date|              High|               Low|              Open|             Close|             Volume|         Adj Close|\n",
      "+-------+----------+------------------+------------------+------------------+------------------+-------------------+------------------+\n",
      "|  count|       273|               273|               273|               273|               273|                273|               273|\n",
      "|   mean|      null| 337.1476186675466|331.44468873411745|334.40963303562484| 334.4653120215559|9.845714102564102E7| 331.3625758244441|\n",
      "| stddev|      null| 39.91508985376503|41.791686242239294|40.986074008202074|40.883187592147515|6.300305710048807E7|42.086985194120444|\n",
      "|    min|2020-03-02|229.67999267578125|218.25999450683594|228.19000244140625| 222.9499969482422|          2.64579E7|219.43106079101562|\n",
      "|    max|2021-03-30| 398.1199951171875| 395.0799865722656|397.07000732421875|  397.260009765625|         3.922207E8| 395.9800109863281|\n",
      "+-------+----------+------------------+------------------+------------------+------------------+-------------------+------------------+\n",
      "\n"
     ]
    }
   ],
   "source": [
    "# Data summary\n",
    "data.describe().show()"
   ]
  },
  {
   "cell_type": "code",
   "execution_count": 12,
   "metadata": {},
   "outputs": [
    {
     "name": "stdout",
     "output_type": "stream",
     "text": [
      "+-------+------+------+------+------+------+\n",
      "|summary|  Open|  High|   Low| Close|Volume|\n",
      "+-------+------+------+------+------+------+\n",
      "|  count|273.00|273.00|273.00|273.00|   273|\n",
      "|   mean|334.41|337.15|331.44|334.47|  null|\n",
      "| stddev| 40.99| 39.92| 41.79| 40.88|  null|\n",
      "|    min|228.19|229.68|218.26|222.95|  null|\n",
      "|    max|397.07|398.12|395.08|397.26|  null|\n",
      "+-------+------+------+------+------+------+\n",
      "\n"
     ]
    }
   ],
   "source": [
    "# Summary with 2 decimal points\n",
    "from pyspark.sql.functions import format_number\n",
    "summary = data.describe()\n",
    "summary.select(summary['summary'],\n",
    "                  format_number(summary['Open'].cast('float'), 2).alias('Open'),\n",
    "                  format_number(summary['High'].cast('float'), 2).alias('High'),\n",
    "                  format_number(summary['Low'].cast('float'), 2).alias('Low'),\n",
    "                  format_number(summary['Close'].cast('float'), 2).alias('Close'),\n",
    "                  format_number(summary['Volume'].cast('int'),0).alias('Volume')\n",
    "                 ).show()"
   ]
  },
  {
   "cell_type": "markdown",
   "metadata": {},
   "source": [
    "### Querrying"
   ]
  },
  {
   "cell_type": "code",
   "execution_count": 13,
   "metadata": {},
   "outputs": [
    {
     "name": "stdout",
     "output_type": "stream",
     "text": [
      "+--------------------+\n",
      "|   High-Volume-Ratio|\n",
      "+--------------------+\n",
      "|1.295162719213741...|\n",
      "|1.045648488777005...|\n",
      "|1.772798701024472...|\n",
      "|1.655176786963682E-6|\n",
      "|1.306615022964801...|\n",
      "|9.184683676103639E-7|\n",
      "|1.043682932692981...|\n",
      "|1.104277331456731...|\n",
      "|6.798723363201111E-7|\n",
      "|8.237498061430715E-7|\n",
      "+--------------------+\n",
      "only showing top 10 rows\n",
      "\n"
     ]
    }
   ],
   "source": [
    "# 1. ratio of the High Price versus volume of stock traded for a day\n",
    "high_volume_ratio = data.withColumn('High-Volume-Ratio', data['High']/data['Volume']).select(['High-Volume-Ratio'])\n",
    "high_volume_ratio.show(10)"
   ]
  },
  {
   "cell_type": "code",
   "execution_count": 14,
   "metadata": {},
   "outputs": [
    {
     "name": "stdout",
     "output_type": "stream",
     "text": [
      "+-------------------+\n",
      "|High-Low-Difference|\n",
      "+-------------------+\n",
      "|  14.70001220703125|\n",
      "| 16.269989013671875|\n",
      "|      9.77001953125|\n",
      "|  8.459991455078125|\n",
      "|   8.54998779296875|\n",
      "|    10.739990234375|\n",
      "| 15.019989013671875|\n",
      "|  11.05999755859375|\n",
      "| 18.980010986328125|\n",
      "| 22.960006713867188|\n",
      "+-------------------+\n",
      "only showing top 10 rows\n",
      "\n"
     ]
    }
   ],
   "source": [
    "# 2. Difference between high and low stock traded for a day\n",
    "high_low_diff = data.withColumn('High-Low-Difference', data['High']-data['Low']).select(['High-Low-Difference'])\n",
    "high_low_diff.show(10)"
   ]
  },
  {
   "cell_type": "code",
   "execution_count": 15,
   "metadata": {},
   "outputs": [
    {
     "data": {
      "text/plain": [
       "'2021-03-17'"
      ]
     },
     "execution_count": 15,
     "metadata": {},
     "output_type": "execute_result"
    }
   ],
   "source": [
    "# 3. Date with peak high price\n",
    "data.orderBy(data['High'].desc()).select(['Date']).head(1)[0]['Date']"
   ]
  },
  {
   "cell_type": "code",
   "execution_count": 16,
   "metadata": {},
   "outputs": [
    {
     "data": {
      "text/plain": [
       "'2020-03-23'"
      ]
     },
     "execution_count": 16,
     "metadata": {},
     "output_type": "execute_result"
    }
   ],
   "source": [
    "# 4. Date with least price\n",
    "data.orderBy(data['Low'].asc()).select(['Date']).head(1)[0]['Date']"
   ]
  },
  {
   "cell_type": "code",
   "execution_count": 17,
   "metadata": {},
   "outputs": [
    {
     "name": "stdout",
     "output_type": "stream",
     "text": [
      "Number of such days:  128\n",
      "+----------+\n",
      "|      Date|\n",
      "+----------+\n",
      "|2020-03-02|\n",
      "|2020-03-03|\n",
      "|2020-03-04|\n",
      "|2020-03-05|\n",
      "|2020-03-06|\n",
      "|2020-03-09|\n",
      "|2020-03-10|\n",
      "|2020-03-11|\n",
      "|2020-03-12|\n",
      "|2020-03-13|\n",
      "+----------+\n",
      "only showing top 10 rows\n",
      "\n"
     ]
    }
   ],
   "source": [
    "# 5. Days close was less than mean of close\n",
    "from pyspark.sql.functions import mean\n",
    "\n",
    "close_mean = data.select(mean('Close')).collect()[0][0]\n",
    "print(\"Number of such days: \", data.filter(data['Close'] < close_mean).count())\n",
    "date = data.filter(data['Close'] < close_mean)\n",
    "date = date.select(['Date'])\n",
    "date.show(10)"
   ]
  },
  {
   "cell_type": "code",
   "execution_count": 18,
   "metadata": {},
   "outputs": [
    {
     "data": {
      "text/plain": [
       "array([ 1.        ,  0.99661573,  0.99819426,  0.99736177, -0.5714096 ,\n",
       "        0.99749978,  0.99661573,  1.        ,  0.9977581 ,  0.9976978 ,\n",
       "       -0.62439473,  0.99754788,  0.99819426,  0.9977581 ,  1.        ,\n",
       "        0.99627913, -0.59324518,  0.99624603,  0.99736177,  0.9976978 ,\n",
       "        0.99627913,  1.        , -0.60543009,  0.99980344, -0.5714096 ,\n",
       "       -0.62439473, -0.59324518, -0.60543009,  1.        , -0.60255489,\n",
       "        0.99749978,  0.99754788,  0.99624603,  0.99980344, -0.60255489,\n",
       "        1.        ])"
      ]
     },
     "execution_count": 18,
     "metadata": {},
     "output_type": "execute_result"
    }
   ],
   "source": [
    "# 6. Correlation \n",
    "from pyspark.ml.stat import Correlation\n",
    "from pyspark.ml.feature import VectorAssembler\n",
    "\n",
    "vector_col = \"corr_features\"\n",
    "assembler = VectorAssembler(inputCols=data.columns[1:], outputCol=vector_col)\n",
    "df_vector = assembler.transform(data).select(vector_col)\n",
    "#print(df_vector.collect()[0])\n",
    "matrix = Correlation.corr(df_vector, vector_col)\n",
    "matrix.collect()[0][\"pearson({})\".format(vector_col)].values"
   ]
  },
  {
   "cell_type": "code",
   "execution_count": 19,
   "metadata": {},
   "outputs": [
    {
     "name": "stdout",
     "output_type": "stream",
     "text": [
      "+----+-----------------+\n",
      "|Year|        max(High)|\n",
      "+----+-----------------+\n",
      "|2020|378.4599914550781|\n",
      "|2021|398.1199951171875|\n",
      "+----+-----------------+\n",
      "\n"
     ]
    }
   ],
   "source": [
    "# 7. Maximum high per year\n",
    "from pyspark.sql.functions import (dayofmonth, hour,\n",
    "                                   dayofyear, month,\n",
    "                                   year, weekofyear,\n",
    "                                  format_number, date_format)\n",
    "\n",
    "year_df = data.withColumn('Year', year(data['Date']))\n",
    "year_df.groupBy('Year').max()['Year', 'max(High)'].show()"
   ]
  },
  {
   "cell_type": "code",
   "execution_count": 20,
   "metadata": {},
   "outputs": [
    {
     "name": "stdout",
     "output_type": "stream",
     "text": [
      "+-----+------------------+\n",
      "|Month|        avg(Close)|\n",
      "+-----+------------------+\n",
      "|    1| 378.1784234297903|\n",
      "|    2|387.48157701994245|\n",
      "|    3|327.40204655040395|\n",
      "|    4| 275.4090496244885|\n",
      "|    5| 291.6530014038086|\n",
      "|    6|310.15408602627843|\n",
      "|    7| 319.9940906871449|\n",
      "|    8| 338.7480948311942|\n",
      "|    9|336.03524198986236|\n",
      "|   10|340.97909407182175|\n",
      "|   11| 354.4200012207031|\n",
      "|   12| 368.8863636363636|\n",
      "+-----+------------------+\n",
      "\n"
     ]
    }
   ],
   "source": [
    "# 8. Average Close for each month\n",
    "month_df = data.withColumn('Month', month(data['Date']))\n",
    "month_df = month_df.groupBy('Month').mean()\n",
    "month_df = month_df.orderBy('Month')\n",
    "month_df['Month', 'avg(Close)'].show()"
   ]
  },
  {
   "cell_type": "code",
   "execution_count": 21,
   "metadata": {},
   "outputs": [
    {
     "name": "stdout",
     "output_type": "stream",
     "text": [
      "+----------+-----------------+\n",
      "|      Date|    Daily-Returns|\n",
      "+----------+-----------------+\n",
      "|2020-03-02| 2,597,096,448.00|\n",
      "|2020-03-03|-2,779,290,880.00|\n",
      "|2020-03-04| 1,190,372,608.00|\n",
      "|2020-03-05|  -469,647,968.00|\n",
      "|2020-03-06|   985,555,072.00|\n",
      "|2020-03-09|  -331,069,344.00|\n",
      "|2020-03-10| 1,044,958,336.00|\n",
      "|2020-03-11|-1,618,712,192.00|\n",
      "|2020-03-12|-3,094,621,184.00|\n",
      "|2020-03-13| 2,053,200,384.00|\n",
      "+----------+-----------------+\n",
      "only showing top 10 rows\n",
      "\n"
     ]
    }
   ],
   "source": [
    "# 9. Daily returns\n",
    "daily_returns = data.withColumn('Daily-Returns', (data.Close - data.Open) * data.Volume)\n",
    "daily_returns.select(daily_returns['Date'],\n",
    "                  format_number(daily_returns['Daily-Returns'].cast('float'), 2).alias('Daily-Returns')).show(10)"
   ]
  },
  {
   "cell_type": "code",
   "execution_count": 22,
   "metadata": {},
   "outputs": [
    {
     "name": "stdout",
     "output_type": "stream",
     "text": [
      "+-----+---------------------+\n",
      "|Month|Monthly-Daily-Returns|\n",
      "+-----+---------------------+\n",
      "|    1|       -56,558,216.00|\n",
      "|    2|       -36,988,192.00|\n",
      "|    3|        57,332,024.00|\n",
      "|    4|        29,616,842.00|\n",
      "|    5|       -15,848,993.00|\n",
      "|    6|      -117,272,408.00|\n",
      "|    7|         6,991,015.00|\n",
      "|    8|        23,680,168.00|\n",
      "|    9|      -143,756,192.00|\n",
      "|   10|       -58,093,488.00|\n",
      "|   11|       -48,085,224.00|\n",
      "|   12|         6,502,654.50|\n",
      "+-----+---------------------+\n",
      "\n"
     ]
    }
   ],
   "source": [
    "# 10. Maximum daily returns month wise\n",
    "month_dr = data.withColumn('Monthly-Daily-Returns', (data.Close - data.Open) * data.Volume)\n",
    "month_dr = month_dr.withColumn('Month', month(data['Date']))\n",
    "month_dr = month_dr.orderBy('Month')\n",
    "month_dr = month_dr.groupBy(\"Month\").agg({\"Monthly-Daily-Returns\":\"avg\"})\n",
    "month_dr.select(month_dr['Month'],\n",
    "                  format_number(month_dr['avg(Monthly-Daily-Returns)'].cast('float'), 2).alias('Monthly-Daily-Returns')).show()"
   ]
  },
  {
   "cell_type": "markdown",
   "metadata": {},
   "source": [
    "### Predictions with ML Models"
   ]
  },
  {
   "cell_type": "markdown",
   "metadata": {},
   "source": [
    "#### Pre processing"
   ]
  },
  {
   "cell_type": "code",
   "execution_count": 23,
   "metadata": {},
   "outputs": [],
   "source": [
    "from pyspark.ml.feature import VectorAssembler\n",
    "\n",
    "cols = data.columns[1:]\n",
    "cols.pop(3)\n",
    "assembler = VectorAssembler(\n",
    "    inputCols=cols,\n",
    "    outputCol=\"features\")\n",
    "\n",
    "output = assembler.transform(data).select('features','Close')"
   ]
  },
  {
   "cell_type": "code",
   "execution_count": 24,
   "metadata": {},
   "outputs": [
    {
     "name": "stdout",
     "output_type": "stream",
     "text": [
      "+--------------------+-----------------+\n",
      "|            features|            Close|\n",
      "+--------------------+-----------------+\n",
      "|[309.160003662109...|309.0899963378906|\n",
      "|[313.839996337890...| 300.239990234375|\n",
      "|[313.100006103515...|312.8599853515625|\n",
      "|[308.470001220703...|302.4599914550781|\n",
      "|[298.779998779296...|297.4599914550781|\n",
      "+--------------------+-----------------+\n",
      "only showing top 5 rows\n",
      "\n"
     ]
    }
   ],
   "source": [
    "output.show(5)"
   ]
  },
  {
   "cell_type": "markdown",
   "metadata": {},
   "source": [
    "#### Splitting into train and test"
   ]
  },
  {
   "cell_type": "code",
   "execution_count": 25,
   "metadata": {},
   "outputs": [],
   "source": [
    "train,test = output.randomSplit([0.75, 0.25])"
   ]
  },
  {
   "cell_type": "code",
   "execution_count": 26,
   "metadata": {},
   "outputs": [],
   "source": [
    "r2_values = []"
   ]
  },
  {
   "cell_type": "markdown",
   "metadata": {},
   "source": [
    "#### 1. Linear Regression"
   ]
  },
  {
   "cell_type": "code",
   "execution_count": 27,
   "metadata": {},
   "outputs": [
    {
     "name": "stdout",
     "output_type": "stream",
     "text": [
      "Coefficients: [-0.0013771496386270948,0.04565000606127597,0.0003478975003128736,-1.384744684504912e-09,0.9238933499584007]\n",
      "Intercept: 13.738688724318092\n"
     ]
    }
   ],
   "source": [
    "from pyspark.ml.regression import LinearRegression\n",
    "lin_reg = LinearRegression(featuresCol='features', labelCol='Close')\n",
    "linear_model = lin_reg.fit(train)\n",
    "print(\"Coefficients: \" + str(linear_model.coefficients))\n",
    "print(\"Intercept: \" + str(linear_model.intercept))"
   ]
  },
  {
   "cell_type": "code",
   "execution_count": 28,
   "metadata": {},
   "outputs": [
    {
     "name": "stdout",
     "output_type": "stream",
     "text": [
      "Validation set: \n",
      " RMSE: 0.784138\n",
      " R2: 0.999614\n"
     ]
    }
   ],
   "source": [
    "trainSummary = linear_model.summary\n",
    "print(\"Validation set: \")\n",
    "print(\" RMSE: %f\" % trainSummary.rootMeanSquaredError)\n",
    "print(\" R2: %f\" % trainSummary.r2)"
   ]
  },
  {
   "cell_type": "code",
   "execution_count": 29,
   "metadata": {
    "scrolled": false
   },
   "outputs": [
    {
     "name": "stdout",
     "output_type": "stream",
     "text": [
      "+------------------+------------------+--------------------+--------------------+\n",
      "|        Prediction|             Close|            Accuracy|            features|\n",
      "+------------------+------------------+--------------------+--------------------+\n",
      "|225.74477798544387| 222.9499969482422|  1.2535461204112488|[229.679992675781...|\n",
      "|244.92994007437014|243.14999389648438|  0.7320362831855689|[244.100006103515...|\n",
      "|240.39317698098384|             240.0| 0.16382374207659942|[248.369995117187...|\n",
      "|250.16557263201736|248.19000244140625|  0.7959910436269525|[253.320007324218...|\n",
      "|255.05500974096992| 253.4199981689453|  0.6451785904183499|[260.809997558593...|\n",
      "|274.52604629133265| 274.0299987792969|  0.1810194191312931|[276.0,265.25,267...|\n",
      "| 279.7487039637771| 279.1000061035156| 0.23242488214810494|[281.0,276.910003...|\n",
      "|278.42059654435917|  277.760009765625| 0.23782645287619936|[283.940002441406...|\n",
      "| 283.8887808857143| 283.7900085449219|0.034804728080059036|[284.899993896484...|\n",
      "| 282.0388268209167| 281.6000061035156| 0.15583121729044858|[287.190002441406...|\n",
      "+------------------+------------------+--------------------+--------------------+\n",
      "only showing top 10 rows\n",
      "\n"
     ]
    }
   ],
   "source": [
    "from  pyspark.sql.functions import abs\n",
    "predictions = linear_model.transform(test)\n",
    "x = ((predictions['Close'] - predictions['Prediction'])/predictions['Close'])*100\n",
    "predictions = predictions.withColumn('Accuracy',abs(x))\n",
    "predictions.select(\"Prediction\",\"Close\",\"Accuracy\",\"features\").show(10)"
   ]
  },
  {
   "cell_type": "code",
   "execution_count": 30,
   "metadata": {},
   "outputs": [],
   "source": [
    "predicted = [predictions.collect()[i]['prediction'] for i in range(predictions.count())]\n",
    "actual = [predictions.collect()[i]['Close'] for i in range(predictions.count())]"
   ]
  },
  {
   "cell_type": "code",
   "execution_count": 31,
   "metadata": {},
   "outputs": [
    {
     "data": {
      "image/png": "[encoded data removed]",
      "text/plain": [
       "<Figure size 432x288 with 1 Axes>"
      ]
     },
     "metadata": {
      "needs_background": "light"
     },
     "output_type": "display_data"
    }
   ],
   "source": [
    "plt.plot(predicted)\n",
    "plt.plot(actual)\n",
    "plt.title('Predicted vs Actual ')\n",
    "plt.legend(['Predicted', 'Actual'])\n",
    "plt.show()"
   ]
  },
  {
   "cell_type": "code",
   "execution_count": 32,
   "metadata": {},
   "outputs": [],
   "source": [
    "from pyspark.ml.evaluation import RegressionEvaluator\n",
    "pred_evaluator = RegressionEvaluator(predictionCol=\"prediction\", labelCol=\"Close\",metricName=\"r2\")"
   ]
  },
  {
   "cell_type": "code",
   "execution_count": 33,
   "metadata": {},
   "outputs": [],
   "source": [
    "r2 = trainSummary.r2\n",
    "n = data.count()\n",
    "p = len(data.columns)\n",
    "adjusted_r2 = 1-(1-r2)*(n-1)/(n-p-1)"
   ]
  },
  {
   "cell_type": "code",
   "execution_count": 34,
   "metadata": {},
   "outputs": [],
   "source": [
    "r2_values.append(r2)"
   ]
  },
  {
   "cell_type": "code",
   "execution_count": 35,
   "metadata": {
    "scrolled": true
   },
   "outputs": [
    {
     "name": "stdout",
     "output_type": "stream",
     "text": [
      "Test Data:\n",
      " R2: 0.999664\n",
      " Adjusted R2:  0.9996041310158508\n"
     ]
    }
   ],
   "source": [
    "print(\"Test Data:\")\n",
    "print(\" R2: %g\" % pred_evaluator.evaluate(predictions))\n",
    "print(\" Adjusted R2: \", adjusted_r2)"
   ]
  },
  {
   "cell_type": "markdown",
   "metadata": {},
   "source": [
    "#### 2. Decision tree"
   ]
  },
  {
   "cell_type": "code",
   "execution_count": 36,
   "metadata": {
    "scrolled": true
   },
   "outputs": [
    {
     "data": {
      "text/plain": [
       "'Close'"
      ]
     },
     "execution_count": 36,
     "metadata": {},
     "output_type": "execute_result"
    }
   ],
   "source": [
    "cols = data.columns[1:]\n",
    "cols.pop(3)"
   ]
  },
  {
   "cell_type": "code",
   "execution_count": 37,
   "metadata": {},
   "outputs": [
    {
     "data": {
      "text/plain": [
       "['High', 'Low', 'Open', 'Volume', 'Adj Close']"
      ]
     },
     "execution_count": 37,
     "metadata": {},
     "output_type": "execute_result"
    }
   ],
   "source": [
    "cols"
   ]
  },
  {
   "cell_type": "code",
   "execution_count": 38,
   "metadata": {},
   "outputs": [],
   "source": [
    "from pyspark.ml.regression import DecisionTreeRegressor\n",
    "va = VectorAssembler(inputCols=cols, outputCol='features')\n",
    "dt = DecisionTreeRegressor(maxDepth=5, featuresCol='features',labelCol='Close')\n",
    "dt_model = dt.fit(train)"
   ]
  },
  {
   "cell_type": "code",
   "execution_count": 39,
   "metadata": {},
   "outputs": [
    {
     "name": "stdout",
     "output_type": "stream",
     "text": [
      "+--------------------+------------------+------------------+\n",
      "|            features|             Close|        prediction|\n",
      "+--------------------+------------------+------------------+\n",
      "|[229.679992675781...| 222.9499969482422|240.88750076293945|\n",
      "|[244.100006103515...|243.14999389648438|246.48666381835938|\n",
      "|[248.369995117187...|             240.0|240.88750076293945|\n",
      "|[253.320007324218...|248.19000244140625|246.48666381835938|\n",
      "|[260.809997558593...| 253.4199981689453| 263.3183339436849|\n",
      "|[276.0,265.25,267...| 274.0299987792969| 263.3183339436849|\n",
      "|[281.0,276.910003...| 279.1000061035156| 279.0899963378906|\n",
      "|[283.940002441406...|  277.760009765625|275.09800415039064|\n",
      "|[284.899993896484...| 283.7900085449219|283.69571794782365|\n",
      "|[287.190002441406...| 281.6000061035156|283.69571794782365|\n",
      "+--------------------+------------------+------------------+\n",
      "only showing top 10 rows\n",
      "\n"
     ]
    }
   ],
   "source": [
    "result = dt_model.transform(test)\n",
    "result.show(10)"
   ]
  },
  {
   "cell_type": "code",
   "execution_count": 40,
   "metadata": {},
   "outputs": [
    {
     "data": {
      "text/plain": [
       "Row(features=DenseVector([229.68, 218.26, 228.19, 326025200.0, 219.4311]), Close=222.9499969482422, prediction=240.88750076293945)"
      ]
     },
     "execution_count": 40,
     "metadata": {},
     "output_type": "execute_result"
    }
   ],
   "source": [
    "result.collect()[0]"
   ]
  },
  {
   "cell_type": "code",
   "execution_count": 41,
   "metadata": {},
   "outputs": [],
   "source": [
    "predicted = [result.collect()[i]['prediction'] for i in range(result.count())]\n",
    "actual = [result.collect()[i]['Close'] for i in range(result.count())]"
   ]
  },
  {
   "cell_type": "code",
   "execution_count": 42,
   "metadata": {},
   "outputs": [
    {
     "data": {
      "image/png": "[encoded data removed]",
      "text/plain": [
       "<Figure size 432x288 with 1 Axes>"
      ]
     },
     "metadata": {
      "needs_background": "light"
     },
     "output_type": "display_data"
    }
   ],
   "source": [
    "plt.plot(predicted)\n",
    "plt.plot(actual)\n",
    "plt.title('Predicted vs Actual ')\n",
    "plt.legend(['Predicted', 'Actual'])\n",
    "plt.show()"
   ]
  },
  {
   "cell_type": "code",
   "execution_count": 43,
   "metadata": {},
   "outputs": [],
   "source": [
    "from sklearn.metrics import mean_squared_error, r2_score\n",
    "mse = mean_squared_error(actual, predicted, squared=True)\n",
    "r2 = r2_score(actual, predicted)"
   ]
  },
  {
   "cell_type": "code",
   "execution_count": 44,
   "metadata": {},
   "outputs": [],
   "source": [
    "r2_values.append(r2)"
   ]
  },
  {
   "cell_type": "code",
   "execution_count": 45,
   "metadata": {
    "scrolled": true
   },
   "outputs": [
    {
     "name": "stdout",
     "output_type": "stream",
     "text": [
      "Test Data:\n",
      " MSE:  14.076103030583392\n",
      " R2:  0.9926435111181677\n"
     ]
    }
   ],
   "source": [
    "print(\"Test Data:\")\n",
    "print(\" MSE: \", mse)\n",
    "print(\" R2: \", r2)"
   ]
  },
  {
   "cell_type": "markdown",
   "metadata": {},
   "source": [
    "#### 3. Random Forest"
   ]
  },
  {
   "cell_type": "code",
   "execution_count": 46,
   "metadata": {},
   "outputs": [],
   "source": [
    "from pyspark.ml.regression import RandomForestRegressor"
   ]
  },
  {
   "cell_type": "code",
   "execution_count": 47,
   "metadata": {},
   "outputs": [],
   "source": [
    "rf = RandomForestRegressor(numTrees=100, featuresCol='features',labelCol='Close')\n",
    "rf_model = rf.fit(train)"
   ]
  },
  {
   "cell_type": "code",
   "execution_count": 48,
   "metadata": {},
   "outputs": [],
   "source": [
    "results = rf_model.transform(test)"
   ]
  },
  {
   "cell_type": "code",
   "execution_count": 49,
   "metadata": {},
   "outputs": [
    {
     "name": "stdout",
     "output_type": "stream",
     "text": [
      "+--------------------+------------------+------------------+\n",
      "|            features|             Close|        prediction|\n",
      "+--------------------+------------------+------------------+\n",
      "|[229.679992675781...| 222.9499969482422|241.97138848815564|\n",
      "|[244.100006103515...|243.14999389648438|244.22381723941984|\n",
      "|[248.369995117187...|             240.0|241.97138848815564|\n",
      "|[253.320007324218...|248.19000244140625| 249.2036180063634|\n",
      "|[260.809997558593...| 253.4199981689453|  261.746825323108|\n",
      "|[276.0,265.25,267...| 274.0299987792969|265.53574783122673|\n",
      "|[281.0,276.910003...| 279.1000061035156| 278.5724442145389|\n",
      "|[283.940002441406...|  277.760009765625| 278.2128453615003|\n",
      "|[284.899993896484...| 283.7900085449219|283.02339843126606|\n",
      "|[287.190002441406...| 281.6000061035156|284.67589420358917|\n",
      "+--------------------+------------------+------------------+\n",
      "only showing top 10 rows\n",
      "\n"
     ]
    }
   ],
   "source": [
    "results.show(10)"
   ]
  },
  {
   "cell_type": "code",
   "execution_count": 50,
   "metadata": {},
   "outputs": [
    {
     "data": {
      "text/plain": [
       "Row(features=DenseVector([229.68, 218.26, 228.19, 326025200.0, 219.4311]), Close=222.9499969482422, prediction=241.97138848815564)"
      ]
     },
     "execution_count": 50,
     "metadata": {},
     "output_type": "execute_result"
    }
   ],
   "source": [
    "results.collect()[0]"
   ]
  },
  {
   "cell_type": "code",
   "execution_count": 51,
   "metadata": {},
   "outputs": [],
   "source": [
    "predicted = [results.collect()[i]['prediction'] for i in range(results.count())]\n",
    "actual = [results.collect()[i]['Close'] for i in range(results.count())]"
   ]
  },
  {
   "cell_type": "code",
   "execution_count": 52,
   "metadata": {},
   "outputs": [
    {
     "data": {
      "image/png": "[encoded data removed]",
      "text/plain": [
       "<Figure size 432x288 with 1 Axes>"
      ]
     },
     "metadata": {
      "needs_background": "light"
     },
     "output_type": "display_data"
    }
   ],
   "source": [
    "plt.plot(predicted)\n",
    "plt.plot(actual)\n",
    "plt.title('Predicted vs Actual ')\n",
    "plt.legend(['Predicted', 'Actual'])\n",
    "plt.show()"
   ]
  },
  {
   "cell_type": "code",
   "execution_count": 53,
   "metadata": {},
   "outputs": [],
   "source": [
    "from sklearn.metrics import mean_squared_error, r2_score\n",
    "mse = mean_squared_error(actual, predicted, squared=True)\n",
    "r2 = r2_score(actual, predicted)"
   ]
  },
  {
   "cell_type": "code",
   "execution_count": 54,
   "metadata": {},
   "outputs": [],
   "source": [
    "r2_values.append(r2)"
   ]
  },
  {
   "cell_type": "code",
   "execution_count": 55,
   "metadata": {
    "scrolled": true
   },
   "outputs": [
    {
     "name": "stdout",
     "output_type": "stream",
     "text": [
      "Test Data:\n",
      " MSE:  13.869213721484252\n",
      " R2:  0.9927516361367791\n"
     ]
    }
   ],
   "source": [
    "print(\"Test Data:\")\n",
    "print(\" MSE: \", mse)\n",
    "print(\" R2: \", r2)"
   ]
  },
  {
   "cell_type": "markdown",
   "metadata": {},
   "source": [
    "### Comparing models wrt R2 score"
   ]
  },
  {
   "cell_type": "code",
   "execution_count": 56,
   "metadata": {},
   "outputs": [
    {
     "data": {
      "text/plain": [
       "[0.9996143188205899, 0.9926435111181677, 0.9927516361367791]"
      ]
     },
     "execution_count": 56,
     "metadata": {},
     "output_type": "execute_result"
    }
   ],
   "source": [
    "r2_values"
   ]
  },
  {
   "cell_type": "code",
   "execution_count": 57,
   "metadata": {},
   "outputs": [],
   "source": [
    "models = ['Linear Regression', 'Decision Tree', 'Random Forest']"
   ]
  },
  {
   "cell_type": "code",
   "execution_count": 58,
   "metadata": {},
   "outputs": [
    {
     "data": {
      "image/png": "[encoded data removed]",
      "text/plain": [
       "<Figure size 432x288 with 1 Axes>"
      ]
     },
     "metadata": {
      "needs_background": "light"
     },
     "output_type": "display_data"
    }
   ],
   "source": [
    "plt.plot(models, r2_values, '*-')\n",
    "plt.title('Comparing Models')\n",
    "plt.xlabel('Models')\n",
    "plt.xticks(rotation=15)\n",
    "plt.ylabel('R2 Score')\n",
    "plt.show()"
   ]
  },
  {
   "cell_type": "code",
   "execution_count": null,
   "metadata": {},
   "outputs": [],
   "source": []
  }
 ],
 "metadata": {
  "kernelspec": {
   "display_name": "Python 3",
   "language": "python",
   "name": "python3"
  },
  "language_info": {
   "codemirror_mode": {
    "name": "ipython",
    "version": 3
   },
   "file_extension": ".py",
   "mimetype": "text/x-python",
   "name": "python",
   "nbconvert_exporter": "python",
   "pygments_lexer": "ipython3",
   "version": "3.8.3"
  }
 },
 "nbformat": 4,
 "nbformat_minor": 4
}
